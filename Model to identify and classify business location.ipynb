{
    "cells": [
        {
            "cell_type": "markdown",
            "metadata": {},
            "source": "----\n# An Integrated Model To Identify and Classify The Key criteria in Choosing A Business location using K-means Technique"
        },
        {
            "cell_type": "markdown",
            "metadata": {},
            "source": "**by [Maxwell Ihiaso](https://github.com/Maxwell-ihiaso)** (B.MMEng, Sales/ Web Analjyst)\n\n----\n"
        },
        {
            "cell_type": "markdown",
            "metadata": {},
            "source": "## Table of Contents\n\n<div class=\"alert alert-block alert-info\" style=\"margin-top: 20px; margin-bottom:20px\">\n\n<font size = 3>\n\n1. <a href=\"#item1\">Problem Statement</a>\n\n2. <a href=\"#item2\">Introduction</a>\n\n3. <a href=\"#item3\">Scope of study</a>\n\n</font>\n</div>"
        },
        {
            "cell_type": "markdown",
            "metadata": {},
            "source": "---\n# 1. Problem Statement"
        },
        {
            "cell_type": "markdown",
            "metadata": {},
            "source": "A good business location translates to a good revenune generation. Making the choice on where to set up  your business is dependent on a list of factors. However, decisions on the set up location is key. In this project a model will be developed. This model aims to assist in location selection by segmenting and clustering venues in a particular neighborhood. The results from the clusters can then be used to make a decision on areas of best fit for more revenue generation.\n\nFor this model, I will be using setting up a restaurant as my case study."
        },
        {
            "cell_type": "markdown",
            "metadata": {},
            "source": "----\n# 2. Introduction"
        },
        {
            "cell_type": "markdown",
            "metadata": {},
            "source": "There are many things to consider when choosing a location for your business venture, whether setting up an office or a shop for the first time, or looking to expand into new areas. Opening a restaurant is a dream for many people. But the reality of running a successful restaurant can quickly become a nightmare. You need more than just a love of cooking and eating to be a restaurant owner. While you should certainly start with a solid business plan and financial analysis, owning a restaurant comes with its own unique problems.Following the recent release of a new interactive crime report which revealed fascinating insights about crime and security across the UK, entrepreneur Jake Fox reveals the key factors a business needs to consider when selecting a new location.\n\n1. Accessibility\n\nDoes your business rely on frequent deliveries? If so, it\u2019s important to consider local transport links, particularly main roads and motorways. Property rental and purchase prices are often steeper in higher density, more commercialised areas, so there are certainly cost benefits to seeking a more out of town location, providing your daily business operations won\u2019t be hampered by poor transport links. Equally, if you rely on high customer footfall, then ensuring your location is accessible by car, bus and even train will all be important considerations. Don\u2019t forget your employees too, as a good location is often a critical factor in recruiting the right people into your business, particularly if they have been offered several jobs and need to evaluate the pros and cons of each.\nA restaurant's location is as important as the menu and the concept, maybe even more so. Before you start planning anything else, decide on where you want your restaurant to be. Research the area and see what is already available. You wouldn't want to open a sushi house if there are already five similar restaurants in the same part of town.\n\n\n2. Security\n\nBelieve it or not, your location can increase your odds of being affected by crime, which in turn can influence your insurance premiums, as well as the additional security measures you made need to take to keep your premises safe. It\u2019s fair to say that in business, we all make decisions based on information, intuition and probability mixed in with a little luck. But knowing the chances of crime in the areas you are considering is an important part of the decision making process. Knowing the risks of potential criminal activity can help you better prepare and take adequate precautions.\n\n\n3. Competition\n\nYour proximity to other competing businesses could be crucial to your success. Could they provide a benefit to your business or cause a hindrance? Establishing which competitors are in your area and their offering could help guarantee you choose the right location for your business. If there is too much competition then it may be a warning sign to expand your horizons to a new location. There are exceptions to this such as car dealerships who want to be near each other as customers compare and choose the best car deal, hence their close proximity. Likewise, if you have an element of your offering that is unique or offers some kind of new innovation, then choosing an area that already has a ripe market could be the ideal way to pick up customers very quickly and establish a presence in a new area in a relatively short time frame.\nDo you want a family style restaurant? Or would you prefer to run a fine dining establishment? Making this decision, in the beginning, will help you with planning the menu, the d\u00e9cor, and the uniforms for the staff. Creating a concept will let your diners know what they can expect from the moment they walk in the door.\n\n\n4. Business Rates\n\nCash is king! Cash flow is critical as it determines the viable ability for a business to survive and pay its bills. Therefore, it is important to research the average Business Rates including rent, utility bills and taxes in the area to ensure you can afford the premises. Simple hidden costs such as deposits and whether you need to pay to park need to be snuffed out before committing to a location. Estimating the living cost of the location will prevent a commitment outside your means.\nStarting any new business without a plan and a financial analysis is setting you up for failure. A good restaurant plan should include licensing requirements, health codes, tax laws, employee requirements, and income tax regulations to start.\n\n5. Skill base in the area\n\nFind out the skill base in the area - can it fulfill your needs? Take into account employment rates as well. If you rely on skilled workers it is best to go to where there is a healthy bank of talent. Employees are often a business\u2019s biggest asset thus choosing a location that\u2019s lacking in required talent may be the start of your business\u2019s downfall. Some recruitment agencies will happily send you CVs on spec to gauge the market, only charging if you subsequently decide to interview and hire someone. Alternatively, posting a free job via an online jobsite will quickly show you the calibre of employees in a particular area.\n\n6. Potential for growth\n\nWill the premises be able to accommodate business growth or a spike in demand? Moving premises is a big upheaval and can be time consuming and costly. A decision needs to be made as to whether the premise you are choosing is a short-term location or if you would like to stay there for the long haul. Consequently, a location\u2019s flexibility could be a very important factor regarding the premises\u2019 suitability for your business needs.\n\nWhilst a perfect business location is different for every business, covering these crucial areas will certainly give you the best chance of beating the odds and keeping your business on track for future success.\n\n\nIn addition,\n\n7. Plan your menu\n\nYou might want to take some time to check out what your competition is offering. If you want to serve pizza, for example, you will want to see how you can make your pizza better, or more unique. Your menu should include dishes that customers are familiar with but have a new twist.\n\n\n8. Develope a social media strategy to promote tour business.\n\nWhile word of mouth is still the best way to grow a restaurant, you will also need to implement the use of social media to increase awareness for your new restaurant. Using social media platforms like Facebook and Twitter will help you to spread the word of your new business quicker than any other form of advertising.\n\n\n9. Think about your accounting.\n\nAs a restaurant, you\u2019ll process a high volume of small transactions. Think about which point-of-sale system you\u2019ll use to generate receipts and collect card payments. Check if you can link your point-of-sale system with your accounting software. Having a direct link will save you countless of hours compared to copying transactions between your cash register and accounting manually. Preferably use online bookkeeping software. It allows you to monitor your business even when you\u2019re not around and take immediate action when needed.\n\nYou need more than just a passion for cooking to run a restaurant. You need to be willing to devote more than 40 hours a week to your new business. If you don't mind giving up your weekends, family vacations and holidays to grow your business, then owning a restaurant may just be for you.\n"
        },
        {
            "cell_type": "markdown",
            "metadata": {},
            "source": "----\n# 3. Scope of Study"
        },
        {
            "cell_type": "markdown",
            "metadata": {},
            "source": "For this project,I will been using dataset containing neighborhoods in the New York City. This dataset exists for free on the web (here is the link to the dataset:  https://geo.nyu.edu/catalog/nyu_2451_34572 ).\n\nThe Neighborhood has a total of 5 boroughs and 306 neighborhoods. In order to segment the neighborhoods and explore them, I will essentially need a dataset that contains the 5 boroughs and the neighborhoods that exist in each borough as well as the the latitude and logitude coordinates of each neighborhood. From this dataset, I will estalish a dataframe showing boroughs, neighborhoods, latitude and longitude within the New York City.\n\nI will continue to create a map of New York City to give an over view of how the neighborhoods are distrubuted around this region. Our aim is to fetch all available venues within the New York City with keen interest on the population of restaurants within each neighborhod. From the introduction, we have reviewed that a neighborhood with more dense competition on a particular business choice, may pose a threat to any individual setting up a similar business in that neighborhood.\n\nOnce we can set a model that gives an overview of a particular business across all neighborhoods, we can weigh their individual densities grouped by neighborhoods. This in turn will be used to determine a likely production location for setting up a similar business of choice.\n"
        },
        {
            "cell_type": "markdown",
            "metadata": {},
            "source": "The file needed has been downloaded and placed it on the server. So, I can simply run a wget command and access the data."
        },
        {
            "cell_type": "markdown",
            "metadata": {},
            "source": "----\n**Upnext > Dataset Exploration**\n\n-----"
        },
        {
            "cell_type": "code",
            "execution_count": null,
            "metadata": {},
            "outputs": [],
            "source": ""
        }
    ],
    "metadata": {
        "kernelspec": {
            "display_name": "Python 3.6 with Spark",
            "language": "python3",
            "name": "python36"
        },
        "language_info": {
            "codemirror_mode": {
                "name": "ipython",
                "version": 3
            },
            "file_extension": ".py",
            "mimetype": "text/x-python",
            "name": "python",
            "nbconvert_exporter": "python",
            "pygments_lexer": "ipython3",
            "version": "3.6.8"
        }
    },
    "nbformat": 4,
    "nbformat_minor": 1
}